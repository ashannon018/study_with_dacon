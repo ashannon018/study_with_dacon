{
 "cells": [
  {
   "cell_type": "markdown",
   "metadata": {},
   "source": [
    "# Customer Segmentation\n",
    "\n",
    "본 대회의 주제는 이커머스 기업의 **고객을 세분화**하여 현재 기업의 상황을 판단하고, 해당 솔루션에 맞는 솔루션을 제시하는 것입니다.  \n",
    "이를 위해 베이스라인에서는 기본적인 EDA를 수행한 후, 여러가지 방법으로 고객을 분류하겠습니다. "
   ]
  },
  {
   "cell_type": "markdown",
   "metadata": {},
   "source": [
    "### 라이브러리 불러오기(시각화 및 한글폰트) \n",
    "\n",
    "베이스라인을 위해 필요한 라이브러리들을 불러옵니다. "
   ]
  },
  {
   "cell_type": "code",
   "execution_count": 1,
   "metadata": {},
   "outputs": [],
   "source": [
    "import pandas as pd\n",
    "import seaborn as sns\n",
    "import matplotlib.pyplot as plt\n",
    "import matplotlib.font_manager as fm\n",
    "import datetime as dt\n",
    "import numpy as np\n",
    "# 한글 폰트 설정하기\n",
    "#fe = fm.FontEntry(fname = 'MaruBuri-Regular.otf', name = 'MaruBuri')\n",
    "#fm.fontManager.ttflist.insert(0, fe)\n",
    "plt.rc('font', family='AppleGothic')"
   ]
  },
  {
   "cell_type": "markdown",
   "metadata": {},
   "source": [
    "### 데이터 로드\n",
    "\n",
    "대회 데이터를 불러옵니다. "
   ]
  },
  {
   "cell_type": "code",
   "execution_count": 2,
   "metadata": {},
   "outputs": [],
   "source": [
    "online_sales = pd.read_csv('Onlinesales_info.csv')\n",
    "customers_data = pd.read_csv('Customer_info.csv')\n",
    "discount_coupon = pd.read_csv('Discount_info.csv')\n",
    "marketing_spend = pd.read_csv('Marketing_info.csv')\n",
    "tax_amount = pd.read_csv('Tax_info.csv')"
   ]
  },
  {
   "cell_type": "code",
   "execution_count": 3,
   "metadata": {},
   "outputs": [
    {
     "data": {
      "text/html": [
       "<div>\n",
       "<style scoped>\n",
       "    .dataframe tbody tr th:only-of-type {\n",
       "        vertical-align: middle;\n",
       "    }\n",
       "\n",
       "    .dataframe tbody tr th {\n",
       "        vertical-align: top;\n",
       "    }\n",
       "\n",
       "    .dataframe thead th {\n",
       "        text-align: right;\n",
       "    }\n",
       "</style>\n",
       "<table border=\"1\" class=\"dataframe\">\n",
       "  <thead>\n",
       "    <tr style=\"text-align: right;\">\n",
       "      <th></th>\n",
       "      <th>고객ID</th>\n",
       "      <th>거래ID</th>\n",
       "      <th>거래날짜</th>\n",
       "      <th>제품ID</th>\n",
       "      <th>제품카테고리</th>\n",
       "      <th>수량</th>\n",
       "      <th>평균금액</th>\n",
       "      <th>배송료</th>\n",
       "      <th>쿠폰상태</th>\n",
       "    </tr>\n",
       "  </thead>\n",
       "  <tbody>\n",
       "    <tr>\n",
       "      <th>0</th>\n",
       "      <td>USER_1358</td>\n",
       "      <td>Transaction_0000</td>\n",
       "      <td>2019-01-01</td>\n",
       "      <td>Product_0981</td>\n",
       "      <td>Nest-USA</td>\n",
       "      <td>1</td>\n",
       "      <td>153.71</td>\n",
       "      <td>6.5</td>\n",
       "      <td>Used</td>\n",
       "    </tr>\n",
       "    <tr>\n",
       "      <th>1</th>\n",
       "      <td>USER_1358</td>\n",
       "      <td>Transaction_0001</td>\n",
       "      <td>2019-01-01</td>\n",
       "      <td>Product_0981</td>\n",
       "      <td>Nest-USA</td>\n",
       "      <td>1</td>\n",
       "      <td>153.71</td>\n",
       "      <td>6.5</td>\n",
       "      <td>Used</td>\n",
       "    </tr>\n",
       "    <tr>\n",
       "      <th>2</th>\n",
       "      <td>USER_1358</td>\n",
       "      <td>Transaction_0002</td>\n",
       "      <td>2019-01-01</td>\n",
       "      <td>Product_0904</td>\n",
       "      <td>Office</td>\n",
       "      <td>1</td>\n",
       "      <td>2.05</td>\n",
       "      <td>6.5</td>\n",
       "      <td>Used</td>\n",
       "    </tr>\n",
       "    <tr>\n",
       "      <th>3</th>\n",
       "      <td>USER_1358</td>\n",
       "      <td>Transaction_0003</td>\n",
       "      <td>2019-01-01</td>\n",
       "      <td>Product_0203</td>\n",
       "      <td>Apparel</td>\n",
       "      <td>5</td>\n",
       "      <td>17.53</td>\n",
       "      <td>6.5</td>\n",
       "      <td>Not Used</td>\n",
       "    </tr>\n",
       "    <tr>\n",
       "      <th>4</th>\n",
       "      <td>USER_1358</td>\n",
       "      <td>Transaction_0003</td>\n",
       "      <td>2019-01-01</td>\n",
       "      <td>Product_0848</td>\n",
       "      <td>Bags</td>\n",
       "      <td>1</td>\n",
       "      <td>16.50</td>\n",
       "      <td>6.5</td>\n",
       "      <td>Used</td>\n",
       "    </tr>\n",
       "  </tbody>\n",
       "</table>\n",
       "</div>"
      ],
      "text/plain": [
       "        고객ID              거래ID        거래날짜          제품ID    제품카테고리  수량  \\\n",
       "0  USER_1358  Transaction_0000  2019-01-01  Product_0981  Nest-USA   1   \n",
       "1  USER_1358  Transaction_0001  2019-01-01  Product_0981  Nest-USA   1   \n",
       "2  USER_1358  Transaction_0002  2019-01-01  Product_0904    Office   1   \n",
       "3  USER_1358  Transaction_0003  2019-01-01  Product_0203   Apparel   5   \n",
       "4  USER_1358  Transaction_0003  2019-01-01  Product_0848      Bags   1   \n",
       "\n",
       "     평균금액  배송료      쿠폰상태  \n",
       "0  153.71  6.5      Used  \n",
       "1  153.71  6.5      Used  \n",
       "2    2.05  6.5      Used  \n",
       "3   17.53  6.5  Not Used  \n",
       "4   16.50  6.5      Used  "
      ]
     },
     "execution_count": 3,
     "metadata": {},
     "output_type": "execute_result"
    }
   ],
   "source": [
    "#total_data = \n",
    "online_sales.head(5)"
   ]
  },
  {
   "cell_type": "code",
   "execution_count": 5,
   "metadata": {},
   "outputs": [
    {
     "data": {
      "text/html": [
       "<div>\n",
       "<style scoped>\n",
       "    .dataframe tbody tr th:only-of-type {\n",
       "        vertical-align: middle;\n",
       "    }\n",
       "\n",
       "    .dataframe tbody tr th {\n",
       "        vertical-align: top;\n",
       "    }\n",
       "\n",
       "    .dataframe thead th {\n",
       "        text-align: right;\n",
       "    }\n",
       "</style>\n",
       "<table border=\"1\" class=\"dataframe\">\n",
       "  <thead>\n",
       "    <tr style=\"text-align: right;\">\n",
       "      <th></th>\n",
       "      <th>고객ID</th>\n",
       "      <th>성별</th>\n",
       "      <th>고객지역</th>\n",
       "      <th>가입기간</th>\n",
       "    </tr>\n",
       "  </thead>\n",
       "  <tbody>\n",
       "    <tr>\n",
       "      <th>0</th>\n",
       "      <td>USER_1358</td>\n",
       "      <td>남</td>\n",
       "      <td>Chicago</td>\n",
       "      <td>12</td>\n",
       "    </tr>\n",
       "    <tr>\n",
       "      <th>1</th>\n",
       "      <td>USER_0190</td>\n",
       "      <td>남</td>\n",
       "      <td>California</td>\n",
       "      <td>43</td>\n",
       "    </tr>\n",
       "    <tr>\n",
       "      <th>2</th>\n",
       "      <td>USER_0066</td>\n",
       "      <td>남</td>\n",
       "      <td>Chicago</td>\n",
       "      <td>33</td>\n",
       "    </tr>\n",
       "    <tr>\n",
       "      <th>3</th>\n",
       "      <td>USER_0345</td>\n",
       "      <td>여</td>\n",
       "      <td>California</td>\n",
       "      <td>30</td>\n",
       "    </tr>\n",
       "    <tr>\n",
       "      <th>4</th>\n",
       "      <td>USER_0683</td>\n",
       "      <td>남</td>\n",
       "      <td>California</td>\n",
       "      <td>49</td>\n",
       "    </tr>\n",
       "  </tbody>\n",
       "</table>\n",
       "</div>"
      ],
      "text/plain": [
       "        고객ID 성별        고객지역  가입기간\n",
       "0  USER_1358  남     Chicago    12\n",
       "1  USER_0190  남  California    43\n",
       "2  USER_0066  남     Chicago    33\n",
       "3  USER_0345  여  California    30\n",
       "4  USER_0683  남  California    49"
      ]
     },
     "execution_count": 5,
     "metadata": {},
     "output_type": "execute_result"
    }
   ],
   "source": [
    "\n",
    "customers_data.head(5)"
   ]
  },
  {
   "cell_type": "code",
   "execution_count": 6,
   "metadata": {},
   "outputs": [
    {
     "data": {
      "text/html": [
       "<div>\n",
       "<style scoped>\n",
       "    .dataframe tbody tr th:only-of-type {\n",
       "        vertical-align: middle;\n",
       "    }\n",
       "\n",
       "    .dataframe tbody tr th {\n",
       "        vertical-align: top;\n",
       "    }\n",
       "\n",
       "    .dataframe thead th {\n",
       "        text-align: right;\n",
       "    }\n",
       "</style>\n",
       "<table border=\"1\" class=\"dataframe\">\n",
       "  <thead>\n",
       "    <tr style=\"text-align: right;\">\n",
       "      <th></th>\n",
       "      <th>월</th>\n",
       "      <th>제품카테고리</th>\n",
       "      <th>쿠폰코드</th>\n",
       "      <th>할인율</th>\n",
       "    </tr>\n",
       "  </thead>\n",
       "  <tbody>\n",
       "    <tr>\n",
       "      <th>0</th>\n",
       "      <td>Jan</td>\n",
       "      <td>Apparel</td>\n",
       "      <td>SALE10</td>\n",
       "      <td>10</td>\n",
       "    </tr>\n",
       "    <tr>\n",
       "      <th>1</th>\n",
       "      <td>Feb</td>\n",
       "      <td>Apparel</td>\n",
       "      <td>SALE20</td>\n",
       "      <td>20</td>\n",
       "    </tr>\n",
       "    <tr>\n",
       "      <th>2</th>\n",
       "      <td>Mar</td>\n",
       "      <td>Apparel</td>\n",
       "      <td>SALE30</td>\n",
       "      <td>30</td>\n",
       "    </tr>\n",
       "    <tr>\n",
       "      <th>3</th>\n",
       "      <td>Jan</td>\n",
       "      <td>Nest-USA</td>\n",
       "      <td>ELEC10</td>\n",
       "      <td>10</td>\n",
       "    </tr>\n",
       "    <tr>\n",
       "      <th>4</th>\n",
       "      <td>Feb</td>\n",
       "      <td>Nest-USA</td>\n",
       "      <td>ELEC20</td>\n",
       "      <td>20</td>\n",
       "    </tr>\n",
       "  </tbody>\n",
       "</table>\n",
       "</div>"
      ],
      "text/plain": [
       "     월    제품카테고리    쿠폰코드  할인율\n",
       "0  Jan   Apparel  SALE10   10\n",
       "1  Feb   Apparel  SALE20   20\n",
       "2  Mar   Apparel  SALE30   30\n",
       "3  Jan  Nest-USA  ELEC10   10\n",
       "4  Feb  Nest-USA  ELEC20   20"
      ]
     },
     "execution_count": 6,
     "metadata": {},
     "output_type": "execute_result"
    }
   ],
   "source": [
    "discount_coupon.head(5)"
   ]
  },
  {
   "cell_type": "code",
   "execution_count": 7,
   "metadata": {},
   "outputs": [
    {
     "data": {
      "text/html": [
       "<div>\n",
       "<style scoped>\n",
       "    .dataframe tbody tr th:only-of-type {\n",
       "        vertical-align: middle;\n",
       "    }\n",
       "\n",
       "    .dataframe tbody tr th {\n",
       "        vertical-align: top;\n",
       "    }\n",
       "\n",
       "    .dataframe thead th {\n",
       "        text-align: right;\n",
       "    }\n",
       "</style>\n",
       "<table border=\"1\" class=\"dataframe\">\n",
       "  <thead>\n",
       "    <tr style=\"text-align: right;\">\n",
       "      <th></th>\n",
       "      <th>날짜</th>\n",
       "      <th>오프라인비용</th>\n",
       "      <th>온라인비용</th>\n",
       "    </tr>\n",
       "  </thead>\n",
       "  <tbody>\n",
       "    <tr>\n",
       "      <th>0</th>\n",
       "      <td>2019-01-01</td>\n",
       "      <td>4500</td>\n",
       "      <td>2424.50</td>\n",
       "    </tr>\n",
       "    <tr>\n",
       "      <th>1</th>\n",
       "      <td>2019-01-02</td>\n",
       "      <td>4500</td>\n",
       "      <td>3480.36</td>\n",
       "    </tr>\n",
       "    <tr>\n",
       "      <th>2</th>\n",
       "      <td>2019-01-03</td>\n",
       "      <td>4500</td>\n",
       "      <td>1576.38</td>\n",
       "    </tr>\n",
       "    <tr>\n",
       "      <th>3</th>\n",
       "      <td>2019-01-04</td>\n",
       "      <td>4500</td>\n",
       "      <td>2928.55</td>\n",
       "    </tr>\n",
       "    <tr>\n",
       "      <th>4</th>\n",
       "      <td>2019-01-05</td>\n",
       "      <td>4500</td>\n",
       "      <td>4055.30</td>\n",
       "    </tr>\n",
       "  </tbody>\n",
       "</table>\n",
       "</div>"
      ],
      "text/plain": [
       "           날짜  오프라인비용    온라인비용\n",
       "0  2019-01-01    4500  2424.50\n",
       "1  2019-01-02    4500  3480.36\n",
       "2  2019-01-03    4500  1576.38\n",
       "3  2019-01-04    4500  2928.55\n",
       "4  2019-01-05    4500  4055.30"
      ]
     },
     "execution_count": 7,
     "metadata": {},
     "output_type": "execute_result"
    }
   ],
   "source": [
    "marketing_spend.head(5)"
   ]
  },
  {
   "cell_type": "code",
   "execution_count": 8,
   "metadata": {},
   "outputs": [
    {
     "data": {
      "text/html": [
       "<div>\n",
       "<style scoped>\n",
       "    .dataframe tbody tr th:only-of-type {\n",
       "        vertical-align: middle;\n",
       "    }\n",
       "\n",
       "    .dataframe tbody tr th {\n",
       "        vertical-align: top;\n",
       "    }\n",
       "\n",
       "    .dataframe thead th {\n",
       "        text-align: right;\n",
       "    }\n",
       "</style>\n",
       "<table border=\"1\" class=\"dataframe\">\n",
       "  <thead>\n",
       "    <tr style=\"text-align: right;\">\n",
       "      <th></th>\n",
       "      <th>제품카테고리</th>\n",
       "      <th>GST</th>\n",
       "    </tr>\n",
       "  </thead>\n",
       "  <tbody>\n",
       "    <tr>\n",
       "      <th>0</th>\n",
       "      <td>Nest-USA</td>\n",
       "      <td>0.10</td>\n",
       "    </tr>\n",
       "    <tr>\n",
       "      <th>1</th>\n",
       "      <td>Office</td>\n",
       "      <td>0.10</td>\n",
       "    </tr>\n",
       "    <tr>\n",
       "      <th>2</th>\n",
       "      <td>Apparel</td>\n",
       "      <td>0.18</td>\n",
       "    </tr>\n",
       "    <tr>\n",
       "      <th>3</th>\n",
       "      <td>Bags</td>\n",
       "      <td>0.18</td>\n",
       "    </tr>\n",
       "    <tr>\n",
       "      <th>4</th>\n",
       "      <td>Drinkware</td>\n",
       "      <td>0.18</td>\n",
       "    </tr>\n",
       "  </tbody>\n",
       "</table>\n",
       "</div>"
      ],
      "text/plain": [
       "      제품카테고리   GST\n",
       "0   Nest-USA  0.10\n",
       "1     Office  0.10\n",
       "2    Apparel  0.18\n",
       "3       Bags  0.18\n",
       "4  Drinkware  0.18"
      ]
     },
     "execution_count": 8,
     "metadata": {},
     "output_type": "execute_result"
    }
   ],
   "source": [
    "tax_amount.head(5)"
   ]
  },
  {
   "cell_type": "code",
   "execution_count": null,
   "metadata": {},
   "outputs": [],
   "source": [
    "df_total = pd.merge(online_sales, customers_data,on='고객ID')"
   ]
  },
  {
   "cell_type": "code",
   "execution_count": 1,
   "metadata": {},
   "outputs": [],
   "source": [
    "\n",
    "import pandas as pd\n",
    "\n",
    "import sweetviz as sv"
   ]
  },
  {
   "cell_type": "code",
   "execution_count": 8,
   "metadata": {},
   "outputs": [
    {
     "data": {
      "application/vnd.jupyter.widget-view+json": {
       "model_id": "99a35b1b392d442dbeffe62eeab9b733",
       "version_major": 2,
       "version_minor": 0
      },
      "text/plain": [
       "                                             |          | [  0%]   00:00 -> (? left)"
      ]
     },
     "metadata": {},
     "output_type": "display_data"
    },
    {
     "name": "stdout",
     "output_type": "stream",
     "text": [
      "Report ./tax_amount.html was generated! NOTEBOOK/COLAB USERS: the web browser MAY not pop up, regardless, the report IS saved in your notebook/colab files.\n"
     ]
    }
   ],
   "source": [
    "advert_report = sv.analyze(tax_amount)\n",
    "#display the report\n",
    "advert_report.show_html('./tax_amount.html')"
   ]
  },
  {
   "cell_type": "code",
   "execution_count": null,
   "metadata": {},
   "outputs": [],
   "source": [
    "online_sales.head(5)"
   ]
  },
  {
   "cell_type": "code",
   "execution_count": null,
   "metadata": {},
   "outputs": [],
   "source": [
    "online_sales.describe()"
   ]
  },
  {
   "cell_type": "code",
   "execution_count": null,
   "metadata": {},
   "outputs": [],
   "source": [
    "online_sales.info()"
   ]
  },
  {
   "cell_type": "code",
   "execution_count": null,
   "metadata": {},
   "outputs": [],
   "source": [
    "online_sales.isnull().sum()"
   ]
  },
  {
   "cell_type": "code",
   "execution_count": null,
   "metadata": {},
   "outputs": [],
   "source": [
    "for c in online_sales.columns:\n",
    "    print(online_sales[c].value_counts())"
   ]
  },
  {
   "cell_type": "code",
   "execution_count": null,
   "metadata": {},
   "outputs": [],
   "source": [
    "online_sales['고객ID'].value_counts().reset_index().plot(kind='bar')"
   ]
  },
  {
   "cell_type": "code",
   "execution_count": null,
   "metadata": {},
   "outputs": [],
   "source": []
  },
  {
   "cell_type": "code",
   "execution_count": null,
   "metadata": {},
   "outputs": [],
   "source": []
  },
  {
   "cell_type": "code",
   "execution_count": null,
   "metadata": {},
   "outputs": [],
   "source": [
    "online_sales['제품ID'].value_counts().reset_index().plot(kind='bar')"
   ]
  },
  {
   "cell_type": "code",
   "execution_count": null,
   "metadata": {},
   "outputs": [],
   "source": [
    "coupon_transaction = online_sales[['쿠폰상태','거래ID', '거래날짜']]\n",
    "coupon_transaction"
   ]
  },
  {
   "cell_type": "code",
   "execution_count": null,
   "metadata": {},
   "outputs": [],
   "source": [
    "online_sales['쿠폰상태'].value_counts().plot(kind='pie')\n"
   ]
  },
  {
   "cell_type": "code",
   "execution_count": null,
   "metadata": {},
   "outputs": [],
   "source": [
    "coupon_transaction = coupon_transaction.assign(Month=pd.to_datetime(online_sales['거래날짜']).dt.to_period('M'))\n",
    "#coupon_transaction['쿠폰상태'] = coupon_transaction['쿠폰상태'].replace('Used', 1).replace('Not Used',2).replace('Clicked',3)\n",
    "\n",
    "coupon_transaction = coupon_transaction[['쿠폰상태', 'Month']]\n",
    "coupon_transaction = coupon_transaction.groupby('Month')['쿠폰상태'].value_counts()\n",
    "\n",
    "coupon_transaction=coupon_transaction.sort_index(level=0)"
   ]
  },
  {
   "cell_type": "code",
   "execution_count": null,
   "metadata": {},
   "outputs": [],
   "source": [
    "from itertools import cycle, islice\n",
    "\n",
    "my_colors = list(islice(cycle(['b', 'r', 'g', 'y', 'k']), None, 3))\n",
    "\n",
    "coupon_transaction.plot(kind='bar',  stacked=True, color=my_colors, figsize=(10,6))"
   ]
  },
  {
   "cell_type": "code",
   "execution_count": null,
   "metadata": {},
   "outputs": [],
   "source": [
    "coupon_transaction"
   ]
  },
  {
   "cell_type": "code",
   "execution_count": null,
   "metadata": {},
   "outputs": [],
   "source": [
    "i=0\n",
    "lst = []\n",
    "res = []\n",
    "for co in coupon_transaction.reset_index(drop=True):\n",
    "    if  i>2 and i%3==0 :\n",
    "        res.append(lst[2]/lst[0])\n",
    "        lst = []\n",
    "    lst.append(co)\n",
    "    i +=1\n",
    "res.append(lst[2]/lst[0]) \n",
    "    "
   ]
  },
  {
   "cell_type": "code",
   "execution_count": null,
   "metadata": {},
   "outputs": [],
   "source": [
    "res"
   ]
  },
  {
   "cell_type": "code",
   "execution_count": null,
   "metadata": {},
   "outputs": [],
   "source": [
    "res = list(map(lambda x :round(x,4)-0.5,res))"
   ]
  },
  {
   "cell_type": "code",
   "execution_count": null,
   "metadata": {},
   "outputs": [],
   "source": [
    "import matplotlib.pyplot as plt\n",
    "ax = sns.barplot(x=np.arange(len(res))+1, y=res)\n",
    "ax.bar_label(ax.containers[0], labels=[f'{e+0.5:.2f}' for e in res])\n",
    "ax.set_xlabel('월별 클릭 대비 쿠폰 적용율')\n",
    "#plt.axis('off')\n",
    "plt.show()"
   ]
  },
  {
   "cell_type": "code",
   "execution_count": null,
   "metadata": {},
   "outputs": [],
   "source": [
    "#3,6,9,12월에 발급한 쿠폰 할인율이 30%으로 높았고 Marketing비용이 11,12월에 높았으나 그 효과가 미비하고, 여름7,8월의 쿠폰적용률이 높은 것으로 보아 연초부터 시작한 쿠폰 이벤트의 효과가 여름에 적용된 것으로 보임.\n",
    "#또한, 클릭대비 실제 사용률은 9월이 가장 높았다."
   ]
  },
  {
   "cell_type": "code",
   "execution_count": null,
   "metadata": {},
   "outputs": [],
   "source": [
    "customers_data.head(5)"
   ]
  },
  {
   "cell_type": "code",
   "execution_count": null,
   "metadata": {},
   "outputs": [],
   "source": [
    "discount_coupon.head(5)"
   ]
  },
  {
   "cell_type": "code",
   "execution_count": null,
   "metadata": {},
   "outputs": [],
   "source": [
    "category_list = discount_coupon['제품카테고리'].unique()\n",
    "for cl in category_list:\n",
    "    discount_coupon[discount_coupon['제품카테고리']==cl].set_index('월').plot(kind='bar')    \n"
   ]
  },
  {
   "cell_type": "code",
   "execution_count": null,
   "metadata": {},
   "outputs": [],
   "source": [
    "marketing_spend.head(5)"
   ]
  },
  {
   "cell_type": "code",
   "execution_count": null,
   "metadata": {},
   "outputs": [],
   "source": [
    "marketing_spend.info()"
   ]
  },
  {
   "cell_type": "code",
   "execution_count": null,
   "metadata": {},
   "outputs": [],
   "source": [
    "marketing_spend.describe()"
   ]
  },
  {
   "cell_type": "code",
   "execution_count": null,
   "metadata": {},
   "outputs": [],
   "source": [
    "marketing_spend.head(-5)"
   ]
  },
  {
   "cell_type": "code",
   "execution_count": null,
   "metadata": {},
   "outputs": [],
   "source": [
    "\n",
    "#counts_by_month = online_sales.assign(Month=pd.to_datetime(online_sales['거래날짜']).dt.to_period('M'))['Month'].value_counts().sort_index()\n",
    "marketing_spend= marketing_spend.assign(Month=pd.to_datetime(marketing_spend['날짜']).dt.to_period('M'))\n",
    "marketing_spend.groupby('Month')['온라인비용'].sum().plot(kind='bar')"
   ]
  },
  {
   "cell_type": "code",
   "execution_count": null,
   "metadata": {},
   "outputs": [],
   "source": [
    "marketing_spend.groupby('Month')['오프라인비용'].sum().plot(kind='bar')"
   ]
  },
  {
   "cell_type": "code",
   "execution_count": null,
   "metadata": {},
   "outputs": [],
   "source": [
    "a = marketing_spend.groupby('Month')['온라인비용'].sum().to_frame().reset_index()\n",
    "b = marketing_spend.groupby('Month')['오프라인비용'].sum().to_frame().reset_index()\n",
    "a[\"온라인비용\"]=a[\"온라인비용\"].astype('int')\n",
    "ax_list  = a.Month.astype(str).reset_index(drop=True)"
   ]
  },
  {
   "cell_type": "code",
   "execution_count": null,
   "metadata": {},
   "outputs": [],
   "source": [
    "import matplotlib.pyplot as plt\n",
    "import numpy as np\n",
    "weight_counts = {\n",
    "    \n",
    "    \"Offline\": np.array(b['오프라인비용']),\n",
    "    \"Online\": np.array(a['온라인비용']),\n",
    "}\n",
    "width = 0.5\n",
    "\n",
    "fig, ax = plt.subplots()\n",
    "fig.set_size_inches(13, fig.get_figheight(), forward=True)\n",
    "\n",
    "bottom = np.zeros(12)\n",
    "for boolean, weight_count in weight_counts.items():\n",
    "    print(boolean, weight_count)\n",
    "for boolean, weight_count in weight_counts.items():\n",
    "    p = ax.bar(ax_list, weight_count , width, label=boolean, bottom=bottom)\n",
    "    bottom += weight_count\n",
    "\n",
    "ax.set_title(\"Marketing Cost\")\n",
    "ax.legend(loc=\"upper center\")\n",
    "plt.show()"
   ]
  },
  {
   "cell_type": "code",
   "execution_count": null,
   "metadata": {},
   "outputs": [],
   "source": []
  },
  {
   "cell_type": "code",
   "execution_count": null,
   "metadata": {},
   "outputs": [],
   "source": [
    "tax_amount.head(5)"
   ]
  },
  {
   "cell_type": "code",
   "execution_count": null,
   "metadata": {},
   "outputs": [],
   "source": [
    "customers_data\n"
   ]
  },
  {
   "cell_type": "code",
   "execution_count": null,
   "metadata": {},
   "outputs": [],
   "source": [
    "customer_regions = customers_data['고객지역'].value_counts().reset_index().set_index('고객지역')\n",
    "\n",
    "customer_regions"
   ]
  },
  {
   "cell_type": "code",
   "execution_count": null,
   "metadata": {},
   "outputs": [],
   "source": [
    "online_sales"
   ]
  },
  {
   "cell_type": "code",
   "execution_count": null,
   "metadata": {},
   "outputs": [],
   "source": [
    "#카테고리 판매횟수\n",
    "category_sales= online_sales['제품카테고리'].value_counts()\n"
   ]
  },
  {
   "cell_type": "code",
   "execution_count": null,
   "metadata": {},
   "outputs": [],
   "source": [
    "category_sales.sort_values().plot(kind='barh')"
   ]
  },
  {
   "cell_type": "code",
   "execution_count": null,
   "metadata": {},
   "outputs": [],
   "source": [
    "category_sales"
   ]
  },
  {
   "cell_type": "code",
   "execution_count": null,
   "metadata": {},
   "outputs": [],
   "source": [
    "category_sales.index[0]"
   ]
  },
  {
   "cell_type": "code",
   "execution_count": null,
   "metadata": {},
   "outputs": [],
   "source": [
    "# 카테고리 판매횟수 상위\n",
    "category_sales[:5].plot(kind='bar', y = 'count')\n"
   ]
  },
  {
   "cell_type": "code",
   "execution_count": null,
   "metadata": {},
   "outputs": [],
   "source": [
    "category_sales[:5]"
   ]
  },
  {
   "cell_type": "code",
   "execution_count": null,
   "metadata": {},
   "outputs": [],
   "source": [
    "category_sales[:5].index[0]\n"
   ]
  },
  {
   "cell_type": "code",
   "execution_count": null,
   "metadata": {},
   "outputs": [],
   "source": [
    "online_sales_customers = pd.merge(online_sales, customers_data, on='고객ID')\n",
    "online_sales_customers"
   ]
  },
  {
   "cell_type": "code",
   "execution_count": null,
   "metadata": {},
   "outputs": [],
   "source": [
    "df_category_gender = pd.DataFrame()\n",
    "for i in range(0, 5):\n",
    "    category_name = category_sales[:5].index[i]\n",
    "    df_category_gender[category_name]=(online_sales_customers[online_sales_customers['제품카테고리']==category_name].drop_duplicates(['고객ID'])['성별'].value_counts())\n",
    "df_category_gender\n",
    "    "
   ]
  },
  {
   "cell_type": "code",
   "execution_count": null,
   "metadata": {},
   "outputs": [],
   "source": [
    "df_category_gender.plot(kind='bar')"
   ]
  },
  {
   "cell_type": "code",
   "execution_count": null,
   "metadata": {},
   "outputs": [],
   "source": [
    "df_category_gender2 = pd.DataFrame()\n",
    "for i in range(0, 5):\n",
    "    category_name = category_sales[:5].index[i]\n",
    "    df_category_gender2[category_name]=(online_sales_customers[online_sales_customers['제품카테고리']==category_name])['성별'].value_counts()\n",
    "df_category_gender2\n",
    "df_category_gender2.plot(kind='bar')"
   ]
  },
  {
   "cell_type": "code",
   "execution_count": null,
   "metadata": {},
   "outputs": [],
   "source": [
    "## Evidence 1:  상위 판매 카테고리 5개 중 모든 카테고리 구매자는 여성이 남성보다 높다."
   ]
  },
  {
   "cell_type": "code",
   "execution_count": null,
   "metadata": {},
   "outputs": [],
   "source": [
    "for i in range(0,len(category_sales_gender)):\n",
    "    category_name = category_sales_gender.loc[i]['제품카테고리']\n",
    "    print(category_sales_gender.loc[i]['제품카테고리'])\n",
    "    user_list = pd.merge(customers_data, online_sales[online_sales['제품카테고리']==category_name]['고객ID'].drop_duplicates().reset_index(drop=True), on=['고객ID'])\n",
    "    user_list[user_list['성별'] == '여'].value_counts().sum()\n",
    "    category_sales_gender.loc[i]['gender']\n",
    "\n"
   ]
  },
  {
   "cell_type": "code",
   "execution_count": null,
   "metadata": {},
   "outputs": [],
   "source": [
    "user_list[user_list['성별'] == '남'].value_counts().sum()\n"
   ]
  },
  {
   "cell_type": "code",
   "execution_count": null,
   "metadata": {},
   "outputs": [],
   "source": [
    "\n",
    "\n",
    "\n",
    "#marketing_spend= marketing_spend.assign(Month=pd.to_datetime(marketing_spend['날짜']).dt.to_period('M'))\n",
    "\n",
    "#category_sales_gender['female'] = \n",
    "#category_sales_gender['male']  ="
   ]
  },
  {
   "cell_type": "code",
   "execution_count": null,
   "metadata": {},
   "outputs": [],
   "source": [
    "online_sales['total_sales'] = online_sales['수량']*online_sales['평균금액']"
   ]
  },
  {
   "cell_type": "code",
   "execution_count": null,
   "metadata": {},
   "outputs": [],
   "source": [
    "# 판매액이 높은 제품 카테고리순\n",
    "order_high_purchase_category = online_sales.groupby('제품카테고리')['total_sales'].sum().sort_values(ascending=False)\n",
    "order_high_purchase_category = order_high_purchase_category.reset_index()\n",
    "order_high_purchase_category"
   ]
  },
  {
   "cell_type": "code",
   "execution_count": null,
   "metadata": {},
   "outputs": [],
   "source": [
    "order_high_purchase_category[:5]"
   ]
  },
  {
   "cell_type": "code",
   "execution_count": null,
   "metadata": {},
   "outputs": [],
   "source": []
  },
  {
   "cell_type": "code",
   "execution_count": null,
   "metadata": {},
   "outputs": [],
   "source": [
    "#카테고리별 우수고객(구매금액 상위)"
   ]
  },
  {
   "cell_type": "code",
   "execution_count": null,
   "metadata": {},
   "outputs": [],
   "source": [
    "prices_list = online_sales['배송료'].value_counts()\n",
    "prices_list = prices_list.reset_index()\n",
    "prices_list"
   ]
  },
  {
   "cell_type": "code",
   "execution_count": null,
   "metadata": {},
   "outputs": [],
   "source": [
    "prices_list=prices_list[:100].sort_values('배송료')"
   ]
  },
  {
   "cell_type": "code",
   "execution_count": null,
   "metadata": {},
   "outputs": [],
   "source": [
    "prices_list[:50]"
   ]
  },
  {
   "cell_type": "code",
   "execution_count": null,
   "metadata": {},
   "outputs": [],
   "source": [
    "\n",
    "import matplotlib.pyplot as plt\n",
    "prices_list.plot.bar(title='sdf', width=0.8)\n",
    "plt.show()"
   ]
  },
  {
   "cell_type": "code",
   "execution_count": null,
   "metadata": {},
   "outputs": [],
   "source": [
    "customers_data.head(13)"
   ]
  },
  {
   "cell_type": "code",
   "execution_count": null,
   "metadata": {},
   "outputs": [],
   "source": [
    "individual_total_sales = online_sales.groupby('고객ID')['total_sales'].sum().reset_index().sort_values('total_sales',ascending=False)\n",
    "individual_total_sales"
   ]
  },
  {
   "cell_type": "code",
   "execution_count": null,
   "metadata": {},
   "outputs": [],
   "source": [
    "\n",
    "import matplotlib.pyplot as plt\n",
    "y =  individual_total_sales['total_sales']\n",
    "x =  individual_total_sales['고객ID']\n",
    "fig = plt.figure()\n",
    "plt.scatter(x,y)\n",
    "fig.set_size_inches(30, fig.get_figheight(), forward=True)\n",
    "\n",
    "plt.show()"
   ]
  },
  {
   "cell_type": "code",
   "execution_count": null,
   "metadata": {},
   "outputs": [],
   "source": [
    "individual_total_sales['total_sales'].quantile([0.25, 0.5, 0.75,1])"
   ]
  },
  {
   "cell_type": "code",
   "execution_count": null,
   "metadata": {},
   "outputs": [],
   "source": [
    "len(individual_total_sales[individual_total_sales['total_sales']>20000])"
   ]
  },
  {
   "cell_type": "code",
   "execution_count": null,
   "metadata": {},
   "outputs": [],
   "source": [
    "highly_pay_customer_group =individual_total_sales[individual_total_sales['total_sales']>=20000]\n",
    "target_customer_group = individual_total_sales[individual_total_sales['total_sales']<20000]"
   ]
  },
  {
   "cell_type": "code",
   "execution_count": null,
   "metadata": {},
   "outputs": [],
   "source": [
    "distribute_4_cost = target_customer_group['total_sales'].quantile([0.25, 0.5, 0.75,1]).array\n",
    "distribute_4_cost = np.array(distribute_4_cost).astype(int)\n",
    "distribute_4_cost\n"
   ]
  },
  {
   "cell_type": "code",
   "execution_count": null,
   "metadata": {},
   "outputs": [],
   "source": [
    "purchase_group = [\n",
    "    target_customer_group[ (target_customer_group['total_sales'] < distribute_4_cost[0]) ],\n",
    "    target_customer_group[ (target_customer_group['total_sales'] > distribute_4_cost[0]) & (target_customer_group['total_sales'] <=  distribute_4_cost[1]) ],\n",
    "    target_customer_group[ (target_customer_group['total_sales'] > distribute_4_cost[1]) & (target_customer_group['total_sales'] <=  distribute_4_cost[2]) ] ,\n",
    "    target_customer_group[ (target_customer_group['total_sales'] > distribute_4_cost[2])]\n",
    "    \n",
    "    ]"
   ]
  },
  {
   "cell_type": "code",
   "execution_count": null,
   "metadata": {},
   "outputs": [],
   "source": [
    "purchase_group"
   ]
  },
  {
   "cell_type": "code",
   "execution_count": null,
   "metadata": {},
   "outputs": [],
   "source": [
    "group_count = []\n",
    "for i in range(4):\n",
    "    group_count.append(len(purchase_group[i]))\n",
    "group_count"
   ]
  },
  {
   "cell_type": "code",
   "execution_count": null,
   "metadata": {},
   "outputs": [],
   "source": [
    "df = pd.DataFrame({\"number of customers\": group_count ,\"cost_portion\": distribute_4_cost})\n",
    "df\n"
   ]
  },
  {
   "cell_type": "code",
   "execution_count": null,
   "metadata": {},
   "outputs": [],
   "source": [
    "#distribute_4_cost\n",
    "import matplotlib.pyplot as plt\n",
    "df['number of customers'].plot.bar(title='number of customers in cost distribution', width=0.8)\n",
    "\n",
    "plt.show()"
   ]
  },
  {
   "cell_type": "code",
   "execution_count": null,
   "metadata": {},
   "outputs": [],
   "source": [
    "# 구매액(총 구매액)을 기준으로 백분위수를 구했을때 총 4개의 그룹이 발견되었고 4번째 그룹의 고객수는 20명이라 highly_pay_customer_group 로 별도 구분을 한다.\n",
    "# 구매액이 상대적으로 적은 그룹과 highly_pay_customer_group의 사용자들과 무엇이 다른지 확인하고\n",
    "# 각 그룹의 특징을 알아보자"
   ]
  },
  {
   "cell_type": "code",
   "execution_count": null,
   "metadata": {},
   "outputs": [],
   "source": [
    "first_group_customers"
   ]
  },
  {
   "cell_type": "code",
   "execution_count": null,
   "metadata": {},
   "outputs": [],
   "source": [
    " "
   ]
  },
  {
   "cell_type": "code",
   "execution_count": null,
   "metadata": {},
   "outputs": [],
   "source": [
    "len(individual_total_sales[individual_total_sales['total_sales']>10000])"
   ]
  },
  {
   "cell_type": "code",
   "execution_count": null,
   "metadata": {},
   "outputs": [],
   "source": [
    "sales_portion = individual_total_sales['평균금액'].quantile([0.25, 0.5, 0.75,1], interpolation='nearest').array"
   ]
  },
  {
   "cell_type": "code",
   "execution_count": null,
   "metadata": {},
   "outputs": [],
   "source": [
    "sales_portion"
   ]
  },
  {
   "cell_type": "code",
   "execution_count": null,
   "metadata": {},
   "outputs": [],
   "source": [
    "sales_portion[3]"
   ]
  },
  {
   "cell_type": "code",
   "execution_count": null,
   "metadata": {},
   "outputs": [],
   "source": [
    "lowest_group_id = individual_total_sales.loc[ (individual_total_sales['평균금액']<sales_portion[0])]"
   ]
  },
  {
   "cell_type": "code",
   "execution_count": null,
   "metadata": {},
   "outputs": [],
   "source": [
    "first_group_id = individual_total_sales.loc[ (individual_total_sales['평균금액']>sales_portion[0]) & (individual_total_sales['평균금액']<sales_portion[1] ) ]['고객ID']\n",
    "first_group_id"
   ]
  },
  {
   "cell_type": "code",
   "execution_count": null,
   "metadata": {},
   "outputs": [],
   "source": [
    "second_group_id = individual_total_sales.loc[ (individual_total_sales['평균금액']>sales_portion[1]) & (individual_total_sales['평균금액']<sales_portion[2] ) ]['고객ID']\n",
    "second_group_id"
   ]
  },
  {
   "cell_type": "code",
   "execution_count": null,
   "metadata": {},
   "outputs": [],
   "source": [
    "third_group_id = individual_total_sales[ individual_total_sales['평균금액']> sales_portion[2]]['고객ID']\n",
    "third_group_id"
   ]
  },
  {
   "cell_type": "code",
   "execution_count": null,
   "metadata": {},
   "outputs": [],
   "source": []
  },
  {
   "cell_type": "code",
   "execution_count": null,
   "metadata": {},
   "outputs": [],
   "source": [
    "customers_data[ customers_data['고객ID'] == 'USER_0003'] "
   ]
  },
  {
   "cell_type": "code",
   "execution_count": null,
   "metadata": {},
   "outputs": [],
   "source": [
    "customers_data[ customers_data['고객ID'] == 'USER_1449'] "
   ]
  },
  {
   "cell_type": "code",
   "execution_count": null,
   "metadata": {},
   "outputs": [],
   "source": [
    "lowest_group_customers = pd.merge(customers_data, lowest_group_id, on='고객ID')"
   ]
  },
  {
   "cell_type": "code",
   "execution_count": null,
   "metadata": {},
   "outputs": [],
   "source": [
    "first_group_customers = pd.merge(customers_data, first_group_id, on='고객ID')\n",
    "first_group_customers['고객지역'].value_counts()"
   ]
  },
  {
   "cell_type": "code",
   "execution_count": null,
   "metadata": {},
   "outputs": [],
   "source": [
    "second_group_customers = pd.merge(customers_data,second_group_id, on='고객ID')\n"
   ]
  },
  {
   "cell_type": "code",
   "execution_count": null,
   "metadata": {},
   "outputs": [],
   "source": [
    "second_group_customers['가입기간'].mean()\n",
    "\n"
   ]
  },
  {
   "cell_type": "code",
   "execution_count": null,
   "metadata": {},
   "outputs": [],
   "source": [
    "third_group_customers = pd.merge(customers_data,third_group_id, on='고객ID')\n",
    "third_group_customers['고객지역'].value_counts()"
   ]
  },
  {
   "cell_type": "code",
   "execution_count": null,
   "metadata": {},
   "outputs": [],
   "source": [
    "customers_data.groupby('고객지역')['가입기간'].mean()"
   ]
  },
  {
   "cell_type": "code",
   "execution_count": null,
   "metadata": {},
   "outputs": [],
   "source": [
    "average_join_years = [lowest_group_customers['가입기간'].mean(), first_group_customers['가입기간'].mean(), second_group_customers['가입기간'].mean(), third_group_customers['가입기간'].mean()]\n",
    "average_join_years"
   ]
  },
  {
   "cell_type": "code",
   "execution_count": null,
   "metadata": {},
   "outputs": [],
   "source": [
    "average_join_years=np.array(average_join_years).astype(int)"
   ]
  },
  {
   "cell_type": "code",
   "execution_count": null,
   "metadata": {},
   "outputs": [],
   "source": [
    "sales_portion"
   ]
  },
  {
   "cell_type": "code",
   "execution_count": null,
   "metadata": {},
   "outputs": [],
   "source": [
    "import matplotlib.pyplot as plt\n",
    "\n",
    "y = np.arange(4)\n",
    "label = ['구매액_최저_그룹', '구매액2번째그룹', '구매액3번째그룹','구매액4번째그룹']\n",
    "values = average_join_years\n",
    "\n",
    "\n",
    "plt.plot(list(range(len(average_join_years))), average_join_years)\n",
    "plt.show()"
   ]
  },
  {
   "cell_type": "code",
   "execution_count": null,
   "metadata": {},
   "outputs": [],
   "source": [
    "index = y\n",
    "plt.bar(label, values, color='red',alpha=0.5)\n",
    "\n",
    "plt.show()"
   ]
  },
  {
   "cell_type": "code",
   "execution_count": null,
   "metadata": {},
   "outputs": [],
   "source": [
    "sales_portion"
   ]
  },
  {
   "cell_type": "code",
   "execution_count": null,
   "metadata": {},
   "outputs": [],
   "source": [
    "\n",
    "index = y\n",
    "plt.bar(label, sales_portion, color='blue',alpha=0.5)\n",
    "\n",
    "plt.show()"
   ]
  },
  {
   "cell_type": "code",
   "execution_count": null,
   "metadata": {},
   "outputs": [],
   "source": [
    "\n",
    "len(lowest_group_customers[lowest_group_customers['성별']=='여'])"
   ]
  },
  {
   "cell_type": "code",
   "execution_count": null,
   "metadata": {},
   "outputs": [],
   "source": [
    "tips_sum_by_day_male = [len(lowest_group_customers[lowest_group_customers['성별']=='남']),\n",
    "                        len(first_group_customers[first_group_customers['성별']=='남']),\n",
    "                        len(second_group_customers[second_group_customers['성별']=='남']),\n",
    "                        len(third_group_customers[third_group_customers['성별']=='남'])]\n",
    "tips_sum_by_day_female = [len(lowest_group_customers[lowest_group_customers['성별']=='여']),\n",
    "                        len(first_group_customers[first_group_customers['성별']=='여']),\n",
    "                        len(second_group_customers[second_group_customers['성별']=='여']),\n",
    "                        len(third_group_customers[third_group_customers['성별']=='여'])\n",
    "                        ]"
   ]
  },
  {
   "cell_type": "code",
   "execution_count": null,
   "metadata": {},
   "outputs": [],
   "source": [
    "# Dodged Bar Chart (with same X coordinates side by side)\n",
    "bar_width = 0.35\n",
    "alpha = 0.5\n",
    "p1 = plt.bar(index, tips_sum_by_day_male,bar_width,color='b',alpha=alpha,label='Male')\n",
    "p2 = plt.bar(index + bar_width, tips_sum_by_day_female,\n",
    "             bar_width,color='r',alpha=alpha,label='Female')\n",
    "plt.title('Dodged Bar Chart of Sum of Tips by Day & Sex', fontsize=10)\n",
    "plt.ylabel('Sum of Tips', fontsize=10)\n",
    "plt.xlabel('Day', fontsize=10)\n",
    "plt.xticks(index, label, fontsize=10)\n",
    "plt.legend((p1[0], p2[0]), ('Male', 'Female'), fontsize=10)\n",
    "plt.show()\n"
   ]
  },
  {
   "cell_type": "code",
   "execution_count": null,
   "metadata": {},
   "outputs": [],
   "source": [
    "#evidence : 여성이 전체 구매비율이 남자보다 높지만, 남자는 구매액이 높을 수록 구매를 하는 경향이 있다. 남성고객의"
   ]
  },
  {
   "cell_type": "code",
   "execution_count": null,
   "metadata": {},
   "outputs": [],
   "source": [
    "discount_coupon.head(3)"
   ]
  },
  {
   "cell_type": "code",
   "execution_count": null,
   "metadata": {},
   "outputs": [],
   "source": [
    "marketing_spend.head(5)"
   ]
  },
  {
   "cell_type": "code",
   "execution_count": null,
   "metadata": {},
   "outputs": [],
   "source": [
    "tax_amount.head(5)"
   ]
  },
  {
   "cell_type": "markdown",
   "metadata": {},
   "source": [
    "### 데이터 관찰하기\n",
    "\n",
    "불러온 데이터를 관찰해 봅시다. 대표적으로 onlines_sales를 확인해 보겠습니다. "
   ]
  },
  {
   "cell_type": "code",
   "execution_count": null,
   "metadata": {},
   "outputs": [],
   "source": []
  },
  {
   "cell_type": "code",
   "execution_count": null,
   "metadata": {},
   "outputs": [],
   "source": [
    "online_sales.head(3)"
   ]
  },
  {
   "cell_type": "markdown",
   "metadata": {},
   "source": [
    "### 시간에 따른 거래량 확인하기\n",
    "\n",
    "시간에 따른 거래량을 시각화로 파악해보겠습니다. "
   ]
  },
  {
   "cell_type": "code",
   "execution_count": null,
   "metadata": {},
   "outputs": [],
   "source": [
    "# 'Transaction_Date' 컬럼을 날짜 타입으로 변환하고 월별로 집계\n",
    "# 'Month' 컬럼으로 거래량 계산\n",
    "counts_by_month = online_sales.assign(Month=pd.to_datetime(online_sales['거래날짜']).dt.to_period('M'))['Month'].value_counts().sort_index()\n",
    "\n",
    "# 시간에 따른 거래량 선 그래프 그리기\n",
    "plt.figure(figsize=(15, 6))\n",
    "sns.lineplot(x=counts_by_month.index.astype(str), y=counts_by_month.values)\n",
    "plt.title('시간에 따른 거래량')\n",
    "plt.xlabel('월')\n",
    "plt.ylabel('거래량')\n",
    "plt.xticks(rotation=45)\n",
    "plt.show()"
   ]
  },
  {
   "cell_type": "code",
   "execution_count": null,
   "metadata": {},
   "outputs": [],
   "source": [
    "# 'Transaction_Date' 컬럼을 날짜 타입으로 변환하고 월별로 집계\n",
    "# 'Day' 컬럼으로 거래량 계산\n",
    "counts_by_day= online_sales.assign(Day=pd.to_datetime(online_sales['거래날짜']).dt.to_period('D'))['Day'].value_counts().sort_index()\n",
    "\n",
    "# 날짜에 따른 거래량 선 그래프 그리기\n",
    "plt.figure(figsize=(115, 6))\n",
    "sns.lineplot(x=counts_by_day.index.astype(str), y=counts_by_day.values)\n",
    "plt.title('날짜에 따른 거래량')\n",
    "plt.xlabel('일')\n",
    "plt.ylabel('거래량')\n",
    "plt.xticks(rotation=45)\n",
    "plt.show()"
   ]
  },
  {
   "cell_type": "code",
   "execution_count": null,
   "metadata": {},
   "outputs": [],
   "source": [
    "#위 차트에서 일정적으로 높고 낮음의 주기(Trend)가 있음"
   ]
  },
  {
   "cell_type": "code",
   "execution_count": null,
   "metadata": {},
   "outputs": [],
   "source": [
    "day_sales = online_sales.assign(Day=pd.to_datetime(online_sales['거래날짜']).dt.to_period('D'))['Day'].value_counts()\n",
    "day_sales = day_sales.reset_index()\n",
    "day_sales\n"
   ]
  },
  {
   "cell_type": "code",
   "execution_count": null,
   "metadata": {},
   "outputs": [],
   "source": [
    "day_sales['day_of_week'] = day_sales.Day.dt.day_of_week\n",
    "day_sale= day_sales.groupby(\"day_of_week\")['count'].sum()\n",
    "\n",
    "# 날짜에 따른 거래량 선 그래프 그리기\n",
    "plt.figure(figsize=(15, 6))\n",
    "sns.lineplot(x=day_sale.index.astype(str), y=day_sale.values)\n",
    "plt.title('요일에 따른 거래량')\n",
    "plt.xlabel('요일')\n",
    "plt.ylabel('거래량')\n",
    "plt.xticks(rotation=45)\n",
    "plt.show()"
   ]
  },
  {
   "cell_type": "code",
   "execution_count": null,
   "metadata": {},
   "outputs": [],
   "source": [
    "day_sales['days_in_month'] = day_sales.Day.dt.day\n",
    "day_sales2 = day_sales.groupby(\"days_in_month\")['count'].sum()\n",
    "# 날짜에 따른 거래량 선 그래프 그리기\n",
    "plt.figure(figsize=(15, 6))\n",
    "sns.lineplot(x=day_sales2.index.astype(str), y=day_sales2.values)\n",
    "plt.title('날짜에 따른 거래량')\n",
    "plt.xlabel('날짜')\n",
    "plt.ylabel('거래량')\n",
    "plt.xticks(rotation=45)\n",
    "plt.show()"
   ]
  },
  {
   "cell_type": "code",
   "execution_count": null,
   "metadata": {},
   "outputs": [],
   "source": [
    "#가격에 따른 고객분류\n",
    "#날짜에 따른 고객분류?\n"
   ]
  },
  {
   "cell_type": "markdown",
   "metadata": {},
   "source": [
    "### 성별에 따른 고객 분류\n",
    "\n",
    "고객을 성별에 따라 분류해보겠습니다. "
   ]
  },
  {
   "cell_type": "code",
   "execution_count": null,
   "metadata": {},
   "outputs": [],
   "source": [
    "gender_counts = customers_data['성별'].value_counts()\n",
    "\n",
    "# 원그래프 그리기\n",
    "plt.figure(figsize=(8, 8))  # 그래프 크기 설정\n",
    "plt.pie(gender_counts, labels=gender_counts.index, autopct='%1.1f%%', startangle=140)  # 원그래프 그리기\n",
    "plt.title('성별 시각화')  # 그래프 제목 설정\n",
    "plt.show()  # 그래프 보여주기"
   ]
  },
  {
   "cell_type": "markdown",
   "metadata": {},
   "source": [
    "### 지역에 따른 고객 분류\n",
    "\n",
    "고객을 지역에 따라 분류해보겠습니다. "
   ]
  },
  {
   "cell_type": "code",
   "execution_count": null,
   "metadata": {},
   "outputs": [],
   "source": [
    "# customers_data에서 '고객지역' 열을 사용하여 지역별 거래량 계산\n",
    "location_counts = customers_data['고객지역'].value_counts()\n",
    "\n",
    "# 바 그래프 그리기\n",
    "plt.figure(figsize=(10, 6))  # 그래프 크기 설정\n",
    "sns.barplot(x=location_counts.index, y=location_counts.values)  # seaborn을 사용한 바 그래프 그리기\n",
    "plt.title('고객 지역 시각화')  # 그래프 제목 설정\n",
    "plt.xlabel('고객지역')  # x축 레이블 설정\n",
    "plt.xticks(rotation=45)  # x축 레이블 회전\n",
    "plt.show()  # 그래프 보여주기"
   ]
  },
  {
   "cell_type": "markdown",
   "metadata": {},
   "source": [
    "### RFM 고객 세분화 분석\n",
    "\n",
    "이제 RFM 방법을 사용해서 고객을 세분화해보겠습니다. "
   ]
  },
  {
   "cell_type": "code",
   "execution_count": null,
   "metadata": {},
   "outputs": [],
   "source": [
    "# 원본 데이터셋 복사\n",
    "rfm_online_sales = online_sales.copy()\n",
    "\n",
    "# 날짜 형식 변환\n",
    "rfm_online_sales['거래날짜'] = pd.to_datetime(rfm_online_sales['거래날짜'])\n",
    "\n",
    "# 데이터 내 마지막 날짜 계산\n",
    "last_date = rfm_online_sales['거래날짜'].max()\n",
    "\n",
    "# Recency 계산\n",
    "recency_data = rfm_online_sales.groupby('고객ID')['거래날짜'].max().reset_index()\n",
    "recency_data['Recency'] = (last_date - recency_data['거래날짜']).dt.days\n",
    "\n",
    "# Frequency 계산\n",
    "frequency_data = rfm_online_sales.groupby('고객ID')['거래ID'].count().reset_index()\n",
    "frequency_data.rename(columns={'거래ID': 'Frequency'}, inplace=True)\n",
    "\n",
    "# Monetary 계산\n",
    "rfm_online_sales['SalesValue'] = rfm_online_sales['수량'] * rfm_online_sales['평균금액']\n",
    "monetary_data = rfm_online_sales.groupby('고객ID')['SalesValue'].sum().reset_index()\n",
    "monetary_data.rename(columns={'SalesValue': 'Monetary'}, inplace=True)\n",
    "\n",
    "# RFM 데이터 결합\n",
    "rfm_data = recency_data.merge(frequency_data, on='고객ID').merge(monetary_data, on='고객ID')\n",
    "\n",
    "# Recency, Frequency, Monetary에 점수 부여\n",
    "rfm_data['R_Score'] = pd.qcut(rfm_data['Recency'], 4, labels=[4, 3, 2, 1])\n",
    "rfm_data['F_Score'] = pd.qcut(rfm_data['Frequency'], 4, labels=[1, 2, 3, 4])\n",
    "rfm_data['M_Score'] = pd.qcut(rfm_data['Monetary'], 4, labels=[1, 2, 3, 4])\n",
    "\n",
    "# RFM 스코어 계산\n",
    "rfm_data['RFM_Score'] = rfm_data['R_Score'].astype(str) + rfm_data['F_Score'].astype(str) + rfm_data['M_Score'].astype(str)\n"
   ]
  },
  {
   "cell_type": "code",
   "execution_count": null,
   "metadata": {},
   "outputs": [],
   "source": [
    "# 고객 세그먼트 분류 함수\n",
    "def classify_customer_segment(row):\n",
    "    R, F, M = row['R_Score'], row['F_Score'], row['M_Score']\n",
    "    \n",
    "    if R == 4 and F == 4 and M == 4:\n",
    "        return 'VIP고객'\n",
    "    elif R >= 2 and F >= 3 and M == 4:\n",
    "        return '충성고객'\n",
    "    elif R >= 3 and F <= 3 and M <= 3:\n",
    "        return '잠재충성고객'\n",
    "    elif R == 2 and F < 2 and M < 2:\n",
    "        return '신규고객'\n",
    "    elif R >= 3 and F < 2 and M < 2:\n",
    "        return '정체고객'\n",
    "    elif R >= 3 and F >= 3 and M >= 3:\n",
    "        return '관심필요고객'\n",
    "    elif 2 <= R <= 3 and F < 3 and M < 3:\n",
    "        return '잠드려는고객'\n",
    "    elif R < 3 and 2 <= F <= 4 and 2 <= M <= 4:\n",
    "        return '이탈우려고객'\n",
    "    elif R < 2 and F == 4 and M == 4:\n",
    "        return '놓치면안될고객'\n",
    "    elif 2 <= R <= 3 and 2 <= F <= 3 and 2 <= M <= 3:\n",
    "        return '겨울잠고객'\n",
    "    elif R < 2 and F < 2 and M < 2:\n",
    "        return '이탈고객'\n",
    "    else:\n",
    "        return '기타'\n",
    "    \n",
    "# rfm_data에 'Customer_Segment' 컬럼 추가\n",
    "rfm_data['Customer_Segment'] = rfm_data.apply(classify_customer_segment, axis=1)\n"
   ]
  },
  {
   "cell_type": "code",
   "execution_count": null,
   "metadata": {},
   "outputs": [],
   "source": [
    "# 가능한 모든 세그먼트 정의\n",
    "all_segments = ['VIP고객', '충성고객', '잠재충성고객', '신규고객', '정체고객', '관심필요고객', \n",
    "                '잠드려는고객', '이탈우려고객', '놓치면안될고객', '겨울잠고객', '이탈고객', '기타']\n",
    "\n",
    "# 각 세그먼트별 고객 수 계산\n",
    "segment_counts = rfm_data['Customer_Segment'].value_counts()\n",
    "\n",
    "# 모든 세그먼트에 대한 고객 수를 0으로 초기화하고, 계산된 값으로 업데이트\n",
    "segment_counts_all = {segment: 0 for segment in all_segments}\n",
    "segment_counts_all.update(segment_counts)\n",
    "\n",
    "# 데이터프레임으로 변환\n",
    "segment_counts_df = pd.DataFrame(list(segment_counts_all.items()), columns=['Segment', 'Count'])\n",
    "\n",
    "# 세그먼트별 고객 수를 내림차순으로 정렬\n",
    "segment_counts_sorted_df = segment_counts_df.sort_values(by='Count', ascending=False)\n",
    "\n",
    "# 바 그래프 시각화\n",
    "plt.figure(figsize=(15, 8))\n",
    "plt.bar(segment_counts_sorted_df['Segment'], segment_counts_sorted_df['Count'], color='skyblue')\n",
    "plt.title('고객 세그먼트별 분포')\n",
    "plt.xlabel('고객 세그먼트')\n",
    "plt.ylabel('고객 수')\n",
    "plt.xticks(rotation=45)\n",
    "plt.show()"
   ]
  },
  {
   "cell_type": "code",
   "execution_count": null,
   "metadata": {},
   "outputs": [],
   "source": []
  },
  {
   "cell_type": "code",
   "execution_count": null,
   "metadata": {},
   "outputs": [],
   "source": []
  }
 ],
 "metadata": {
  "kernelspec": {
   "display_name": "soowoong",
   "language": "python",
   "name": "python3"
  },
  "language_info": {
   "codemirror_mode": {
    "name": "ipython",
    "version": 3
   },
   "file_extension": ".py",
   "mimetype": "text/x-python",
   "name": "python",
   "nbconvert_exporter": "python",
   "pygments_lexer": "ipython3",
   "version": "3.9.18"
  }
 },
 "nbformat": 4,
 "nbformat_minor": 2
}
